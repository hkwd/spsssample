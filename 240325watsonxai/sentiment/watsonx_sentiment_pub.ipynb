{
 "cells": [
  {
   "cell_type": "markdown",
   "metadata": {},
   "source": [
    "# watsonx.aiで日本語文のセンチメント分析\n"
   ]
  },
  {
   "cell_type": "code",
   "execution_count": 1,
   "metadata": {},
   "outputs": [],
   "source": [
    "# Python 環境に wml API をインストールしてください\n",
    "# pip install ibm-watson-machine-learning\n"
   ]
  },
  {
   "cell_type": "code",
   "execution_count": 2,
   "metadata": {},
   "outputs": [],
   "source": [
    "#ibm_watson_machine_learningのモジュールをインポート\n",
    "from ibm_watson_machine_learning.foundation_models import Model\n",
    "from ibm_watson_machine_learning.metanames import GenTextParamsMetaNames as GenParams\n",
    "from ibm_watson_machine_learning.foundation_models.utils.enums import ModelTypes, DecodingMethods\n"
   ]
  },
  {
   "cell_type": "code",
   "execution_count": 3,
   "metadata": {},
   "outputs": [],
   "source": [
    "#環境依存情報\n",
    "#APIキー\n",
    "api_key = \"xxxxxxxxxxx\"\n",
    "\n",
    "#プロジェクトID\n",
    "watsonx_project_id = \"xxxxxxxxxxxxxxxx\"\n"
   ]
  },
  {
   "cell_type": "code",
   "execution_count": 4,
   "metadata": {},
   "outputs": [],
   "source": [
    "#エンドポイントURL\n",
    "url = \"https://jp-tok.ml.cloud.ibm.com\"\n",
    "# 基盤モデルの選択\n",
    "model_type = 'ibm/granite-8b-japanese'\n",
    "# model_type = ModelTypes.ELYZA_JAPANESE_LLAMA_2_7B_INSTRUCT\n",
    "# モデルパラメータの指定\n",
    "generate_params = {\n",
    "    GenParams.DECODING_METHOD: DecodingMethods.GREEDY,\n",
    "    GenParams.REPETITION_PENALTY: 1.1,\n",
    "    GenParams.MIN_NEW_TOKENS: 0,\n",
    "    GenParams.MAX_NEW_TOKENS: 200\n",
    "}\n",
    "\n",
    "\n",
    "model = Model(\n",
    "    model_id=model_type,\n",
    "    params=generate_params,\n",
    "    credentials={\n",
    "        \"apikey\": api_key,\n",
    "        \"url\": url\n",
    "    },\n",
    "    project_id=watsonx_project_id\n",
    ")\n"
   ]
  },
  {
   "cell_type": "code",
   "execution_count": 5,
   "metadata": {},
   "outputs": [],
   "source": [
    "# プロンプトの作成\n",
    "def get_prompt(input_text):\n",
    "\n",
    "    # Get the complete prompt by replacing variables\n",
    "    # 変数を置き換えて完全なプロンプトを取得します\n",
    "\n",
    "    complete_prompt = f\"\"\"\n",
    "    このスマートフォンに関するフィードバックを分析し、顧客のポジティブな/ネガティブな感情を特定してください。\n",
    "\n",
    "    レビュー:\n",
    "    驚くほど軽量で、持ち運びが便利です。また、バッテリーの持続時間も素晴らしく、長時間使用しても安心です。\n",
    "    感情:\n",
    "    ポジティブ\n",
    "\n",
    "\n",
    "    レビュー:\n",
    "    カメラの性能が他の機種に比べるとやや劣っています。特に暗所での撮影時には、ノイズが目立ちます。\n",
    "    感情:\n",
    "    ネガティブ\n",
    "\n",
    "\n",
    "    レビュー:\n",
    "    デザインは非常に洗練されており、手にしっくりと馴染みます。操作性も高く、使いやすさに定評があります。\n",
    "    感情:\n",
    "    ポジティブ\n",
    "\n",
    "    レビュー:\n",
    "    画面の解像度がやや低いです。テキストや画像を拡大すると、粗さが目立ちます。\n",
    "    感情:\n",
    "    ネガティブ\n",
    "\n",
    "\n",
    "    レビュー:\n",
    "    {input_text}\n",
    "\n",
    "    感情:\n",
    "    \"\"\"\n",
    "\n",
    "    return complete_prompt"
   ]
  },
  {
   "cell_type": "code",
   "execution_count": 6,
   "metadata": {},
   "outputs": [
    {
     "name": "stdout",
     "output_type": "stream",
     "text": [
      "{'created_at': '2024-03-27T07:37:18.448Z',\n",
      " 'model_id': 'ibm/granite-8b-japanese',\n",
      " 'results': [{'generated_text': 'ポジティブ',\n",
      "              'generated_token_count': 2,\n",
      "              'input_token_count': 198,\n",
      "              'stop_reason': 'eos_token'}]}\n",
      "--------------------------------- Generated output -----------------------------------\n",
      "Prompt: このスマートフォンに関するフィードバックを分析し、顧客のポジティブな/ネガティブな感情を特定してください。\n",
      "\n",
      "    レビュー:\n",
      "    驚くほど軽量で、持ち運びが便利です。また、バッテリーの持続時間も素晴らしく、長時間使用しても安心です。\n",
      "    感情:\n",
      "    ポジティブ\n",
      "\n",
      "\n",
      "    レビュー:\n",
      "    カメラの性能が他の機種に比べるとやや劣っています。特に暗所での撮影時には、ノイズが目立ちます。\n",
      "    感情:\n",
      "    ネガティブ\n",
      "\n",
      "\n",
      "    レビュー:\n",
      "    デザインは非常に洗練されており、手にしっくりと馴染みます。操作性も高く、使いやすさに定評があります。\n",
      "    感情:\n",
      "    ポジティブ\n",
      "\n",
      "    レビュー:\n",
      "    画面の解像度がやや低いです。テキストや画像を拡大すると、粗さが目立ちます。\n",
      "    感情:\n",
      "    ネガティブ\n",
      "\n",
      "\n",
      "    レビュー:\n",
      "    カメラ機能は優れており、高品質な写真や動画を撮影できます。さまざまな撮影モードやエフェクトも豊富です。\n",
      "\n",
      "    感情:\n",
      "---------------------------------------------------------------------------------------------\n",
      "Generated output: ポジティブ\n",
      "*********************************************************************************************\n"
     ]
    }
   ],
   "source": [
    "#生成の実行\n",
    "\n",
    "# プロンプトに入力テキストを入力\n",
    "complete_prompt = get_prompt('カメラ機能は優れており、高品質な写真や動画を撮影できます。さまざまな撮影モードやエフェクトも豊富です。')\n",
    "# LLMから結果を取得\n",
    "generated_response = model.generate(prompt=complete_prompt)\n",
    "response_text = generated_response['results'][0]['generated_text']\n",
    "\n",
    "import pprint\n",
    "pprint.pprint(generated_response)\n",
    "\n",
    "# print model response\n",
    "# モデル応答を出力します\n",
    "print(\"--------------------------------- Generated output -----------------------------------\")\n",
    "print(\"Prompt: \" + complete_prompt.strip())\n",
    "print(\"---------------------------------------------------------------------------------------------\")\n",
    "print(\"Generated output: \" + response_text)\n",
    "print(\"*********************************************************************************************\")\n",
    "\n"
   ]
  },
  {
   "cell_type": "code",
   "execution_count": 7,
   "metadata": {},
   "outputs": [
    {
     "name": "stdout",
     "output_type": "stream",
     "text": [
      "ibm_watson_machine_learning:1.0.353\n",
      "python:3.10.9 (tags/v3.10.9:1dd9be6, Dec  6 2022, 20:01:21) [MSC v.1934 64 bit (AMD64)]\n"
     ]
    }
   ],
   "source": [
    "import ibm_watson_machine_learning\n",
    "print(\"ibm_watson_machine_learning:\"+ibm_watson_machine_learning.version)\n",
    "import sys\n",
    "print(\"python:\"+sys.version)"
   ]
  }
 ],
 "metadata": {
  "kernelspec": {
   "display_name": "Python 3",
   "language": "python",
   "name": "python3"
  },
  "language_info": {
   "codemirror_mode": {
    "name": "ipython",
    "version": 3
   },
   "file_extension": ".py",
   "mimetype": "text/x-python",
   "name": "python",
   "nbconvert_exporter": "python",
   "pygments_lexer": "ipython3",
   "version": "3.10.9"
  }
 },
 "nbformat": 4,
 "nbformat_minor": 2
}
