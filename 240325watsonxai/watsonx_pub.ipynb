{
 "cells": [
  {
   "cell_type": "markdown",
   "metadata": {},
   "source": [
    "# watsonx.aiで日本語文からの固有表現抽出\n"
   ]
  },
  {
   "cell_type": "code",
   "execution_count": 1,
   "metadata": {},
   "outputs": [],
   "source": [
    "# Python 環境に wml API をインストールしてください\n",
    "# pip install ibm-watson-machine-learning\n"
   ]
  },
  {
   "cell_type": "code",
   "execution_count": 2,
   "metadata": {},
   "outputs": [],
   "source": [
    "#ibm_watson_machine_learningのモジュールをインポート\n",
    "from ibm_watson_machine_learning.foundation_models import Model\n",
    "from ibm_watson_machine_learning.metanames import GenTextParamsMetaNames as GenParams\n",
    "from ibm_watson_machine_learning.foundation_models.utils.enums import ModelTypes, DecodingMethods\n"
   ]
  },
  {
   "cell_type": "code",
   "execution_count": 3,
   "metadata": {},
   "outputs": [],
   "source": [
    "#環境依存情報\n",
    "#プロジェクトID\n",
    "watsonx_project_id = \"xxxxxxxxxxxxxxxx\"\n",
    "#APIキー\n",
    "api_key = \"xxxxxxxxxxx\"\n"
   ]
  },
  {
   "cell_type": "code",
   "execution_count": 4,
   "metadata": {},
   "outputs": [],
   "source": [
    "#エンドポイントURL\n",
    "url = \"https://jp-tok.ml.cloud.ibm.com\"\n",
    "# 基盤モデルの選択\n",
    "model_type = 'ibm/granite-8b-japanese'\n",
    "# model_type = ModelTypes.ELYZA_JAPANESE_LLAMA_2_7B_INSTRUCT\n",
    "# モデルパラメータの指定\n",
    "generate_params = {\n",
    "    GenParams.DECODING_METHOD: DecodingMethods.GREEDY,\n",
    "    GenParams.REPETITION_PENALTY: 1,\n",
    "    GenParams.STOP_SEQUENCES: [\"}\"],\n",
    "    GenParams.MIN_NEW_TOKENS: 0,\n",
    "    GenParams.MAX_NEW_TOKENS: 800\n",
    "}\n",
    "\n",
    "model = Model(\n",
    "    model_id=model_type,\n",
    "    params=generate_params,\n",
    "    credentials={\n",
    "        \"apikey\": api_key,\n",
    "        \"url\": url\n",
    "    },\n",
    "    project_id=watsonx_project_id\n",
    ")\n"
   ]
  },
  {
   "cell_type": "code",
   "execution_count": 5,
   "metadata": {},
   "outputs": [],
   "source": [
    "# プロンプトの作成\n",
    "def get_prompt(input_text):\n",
    "\n",
    "    # Get the complete prompt by replacing variables\n",
    "    # 変数を置き換えて完全なプロンプトを取得します\n",
    "\n",
    "    complete_prompt = f\"\"\"\n",
    "    以下の保険請求文書の説明から、車両タイプと車種、日付、時間帯と場所に関する詳細を含む JSON オブジェクトを生成してください。\n",
    "\n",
    "    保険請求文書:\n",
    "    ハイブリッドセダン型車両、トヨタプリウス、2024年2月15日午後3時頃、神奈川県横浜市の都市部の交差点で信号待ち中に後方から追突され、後部バンパーが損傷しました。追突事故により、車両の後部パネルにもひびが入り、修理が必要です。保険金の支払いを申請します。\n",
    "\n",
    "    JSON:\n",
    "    {{\"車両タイプ\": \"ハイブリッドセダン型車両\", \"車種\": \"トヨタプリウス\", \"日付\": \"2024年2月15日\", \"時間帯\": \"午後3時頃\", \"場所\": \"神奈川県横浜市\"}}\n",
    "\n",
    "\n",
    "    保険請求文書:\n",
    "    SUV型車両、ランドローバーディスカバリー、2024年3月1日午前10時頃、埼玉県川口市の高速道路上で車線変更中に側面から衝突され、ドライバーサイドのドアとフェンダーが損傷しました。修理には大規模なボディパネルの交換が必要です。修理費用の請求をいたします。\n",
    "\n",
    "    JSON:\n",
    "    {{\"車両タイプ\": \"SUV型車両\", \"車種\": \"ランドローバーディスカバリー\", \"日付\": \"2024年3月1日\", \"時間帯\": \"午前10時頃\", \"場所\": \"埼玉県川口市\"}}\n",
    "\n",
    "\n",
    "    保険請求文書:\n",
    "    コンパクトカー型車両、ホンダシビック、2024年1月10日午後8時頃、東京都世田谷区の住宅街の駐車場で車両が盗難に遭いました。警察に被害届を提出し、車両の所在が確認できないため、保険金の支払いをお願いします。\n",
    "\n",
    "    JSON:\n",
    "    {{\"車両タイプ\": \"コンパクトカー型車両\", \"車種\": \"ホンダシビック\", \"日付\": \"2024年1月10日\", \"時間帯\": \"午後8時頃\", \"場所\": \"東京都世田谷区\"}}\n",
    "\n",
    "    保険請求文書:\n",
    "    ピックアップトラック型車両、フォードF-150、2024年2月20日午後2時頃、千葉県柏市のショッピングセンターの駐車場で後退中に他の車両に接触し、リアバンパーとトランクに損傷が発生しました。修理費用の請求を申し上げます。\n",
    "\n",
    "    JSON:\n",
    "    {{\"車両タイプ\": \"ピックアップトラック型車両\", \"車種\": \"フォードF-150\", \"日付\": \"2024年2月20日\", \"時間帯\": \"午後2時頃\", \"場所\": \"千葉県柏市\"}}\n",
    "  \n",
    "    保険請求文書:\n",
    "    {input_text}\n",
    "\n",
    "    JSON:\n",
    "    \"\"\"\n",
    "\n",
    "    return complete_prompt\n"
   ]
  },
  {
   "cell_type": "code",
   "execution_count": 6,
   "metadata": {},
   "outputs": [
    {
     "name": "stdout",
     "output_type": "stream",
     "text": [
      "{'created_at': '2024-03-25T03:02:16.092Z',\n",
      " 'model_id': 'ibm/granite-8b-japanese',\n",
      " 'results': [{'generated_text': '{\"車両タイプ\": \"ステーションワゴン型車両\", \"車種\": \"スバルアウトバック\", '\n",
      "                                '\"日付\": \"2024年1月5日\", \"時間帯\": \"午後4時頃\", \"場所\": '\n",
      "                                '\"神奈川県横須賀市\"}',\n",
      "              'generated_token_count': 48,\n",
      "              'input_token_count': 588,\n",
      "              'stop_reason': 'stop_sequence'}]}\n",
      "--------------------------------- Generated output -----------------------------------\n",
      "Prompt: 以下の保険請求文書の説明から、車両タイプと車種、日付、時間帯と場所に関する詳細を含む JSON オブジェクトを生成してください。\n",
      "\n",
      "    保険請求文書:\n",
      "    ハイブリッドセダン型車両、トヨタプリウス、2024年2月15日午後3時頃、神奈川県横浜市の都市部の交差点で信号待ち中に後方から追突され、後部バンパーが損傷しました。追突事故により、車両の後部パネルにもひびが入り、修理が必要です。保険金の支払いを申請します。\n",
      "\n",
      "    JSON:\n",
      "    {\"車両タイプ\": \"ハイブリッドセダン型車両\", \"車種\": \"トヨタプリウス\", \"日付\": \"2024年2月15日\", \"時間帯\": \"午後3時頃\", \"場所\": \"神奈川県横浜市\"}\n",
      "\n",
      "\n",
      "    保険請求文書:\n",
      "    SUV型車両、ランドローバーディスカバリー、2024年3月1日午前10時頃、埼玉県川口市の高速道路上で車線変更中に側面から衝突され、ドライバーサイドのドアとフェンダーが損傷しました。修理には大規模なボディパネルの交換が必要です。修理費用の請求をいたします。\n",
      "\n",
      "    JSON:\n",
      "    {\"車両タイプ\": \"SUV型車両\", \"車種\": \"ランドローバーディスカバリー\", \"日付\": \"2024年3月1日\", \"時間帯\": \"午前10時頃\", \"場所\": \"埼玉県川口市\"}\n",
      "\n",
      "\n",
      "    保険請求文書:\n",
      "    コンパクトカー型車両、ホンダシビック、2024年1月10日午後8時頃、東京都世田谷区の住宅街の駐車場で車両が盗難に遭いました。警察に被害届を提出し、車両の所在が確認できないため、保険金の支払いをお願いします。\n",
      "\n",
      "    JSON:\n",
      "    {\"車両タイプ\": \"コンパクトカー型車両\", \"車種\": \"ホンダシビック\", \"日付\": \"2024年1月10日\", \"時間帯\": \"午後8時頃\", \"場所\": \"東京都世田谷区\"}\n",
      "\n",
      "    保険請求文書:\n",
      "    ピックアップトラック型車両、フォードF-150、2024年2月20日午後2時頃、千葉県柏市のショッピングセンターの駐車場で後退中に他の車両に接触し、リアバンパーとトランクに損傷が発生しました。修理費用の請求を申し上げます。\n",
      "\n",
      "    JSON:\n",
      "    {\"車両タイプ\": \"ピックアップトラック型車両\", \"車種\": \"フォードF-150\", \"日付\": \"2024年2月20日\", \"時間帯\": \"午後2時頃\", \"場所\": \"千葉県柏市\"}\n",
      "  \n",
      "    保険請求文書:\n",
      "    ステーションワゴン型車両、スバルアウトバック、2024年1月5日午後4時頃、神奈川県横須賀市で自宅近くの道路で大雨による洪水が発生し、浸水によりエンジンと電子システムに損傷が発生しました。保険金のお支払いをお願いします。\n",
      "\n",
      "    JSON:\n",
      "---------------------------------------------------------------------------------------------\n",
      "Generated output: {\"車両タイプ\": \"ステーションワゴン型車両\", \"車種\": \"スバルアウトバック\", \"日付\": \"2024年1月5日\", \"時間帯\": \"午後4時頃\", \"場所\": \"神奈川県横須賀市\"}\n",
      "*********************************************************************************************\n"
     ]
    }
   ],
   "source": [
    "#生成の実行\n",
    "\n",
    "# プロンプトに入力テキストを入力\n",
    "complete_prompt = get_prompt('ステーションワゴン型車両、スバルアウトバック、2024年1月5日午後4時頃、神奈川県横須賀市で自宅近くの道路で大雨による洪水が発生し、浸水によりエンジンと電子システムに損傷が発生しました。保険金のお支払いをお願いします。')\n",
    "\n",
    "# LLMから結果を取得\n",
    "generated_response = model.generate(prompt=complete_prompt)\n",
    "response_text = generated_response['results'][0]['generated_text']\n",
    "\n",
    "import pprint\n",
    "pprint.pprint(generated_response)\n",
    "\n",
    "# print model response\n",
    "# モデル応答を出力します\n",
    "print(\"--------------------------------- Generated output -----------------------------------\")\n",
    "print(\"Prompt: \" + complete_prompt.strip())\n",
    "print(\"---------------------------------------------------------------------------------------------\")\n",
    "print(\"Generated output: \" + response_text)\n",
    "print(\"*********************************************************************************************\")\n",
    "\n"
   ]
  },
  {
   "cell_type": "code",
   "execution_count": 7,
   "metadata": {},
   "outputs": [
    {
     "name": "stdout",
     "output_type": "stream",
     "text": [
      "          車両タイプ         車種         日付    時間帯        場所\n",
      "0  ステーションワゴン型車両  スバルアウトバック  2024年1月5日  午後4時頃  神奈川県横須賀市\n"
     ]
    }
   ],
   "source": [
    "# JSONのdf化\n",
    "import pandas as pd\n",
    "import json\n",
    "df = pd.DataFrame(json.loads(response_text), index=[0])\n",
    "print(df)\n"
   ]
  },
  {
   "cell_type": "code",
   "execution_count": 8,
   "metadata": {},
   "outputs": [
    {
     "name": "stdout",
     "output_type": "stream",
     "text": [
      "ibm_watson_machine_learning:1.0.353\n",
      "python:3.10.9 (tags/v3.10.9:1dd9be6, Dec  6 2022, 20:01:21) [MSC v.1934 64 bit (AMD64)]\n"
     ]
    }
   ],
   "source": [
    "import ibm_watson_machine_learning\n",
    "print(\"ibm_watson_machine_learning:\"+ibm_watson_machine_learning.version)\n",
    "import sys\n",
    "print(\"python:\"+sys.version)"
   ]
  }
 ],
 "metadata": {
  "kernelspec": {
   "display_name": "Python 3",
   "language": "python",
   "name": "python3"
  },
  "language_info": {
   "codemirror_mode": {
    "name": "ipython",
    "version": 3
   },
   "file_extension": ".py",
   "mimetype": "text/x-python",
   "name": "python",
   "nbconvert_exporter": "python",
   "pygments_lexer": "ipython3",
   "version": "3.10.9"
  }
 },
 "nbformat": 4,
 "nbformat_minor": 2
}
